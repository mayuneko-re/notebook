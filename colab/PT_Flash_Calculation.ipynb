{
  "nbformat": 4,
  "nbformat_minor": 0,
  "metadata": {
    "colab": {
      "name": "PT_Flash_Calculation.ipynb",
      "provenance": [],
      "collapsed_sections": [],
      "toc_visible": true,
      "include_colab_link": true
    },
    "kernelspec": {
      "name": "python3",
      "display_name": "Python 3"
    }
  },
  "cells": [
    {
      "cell_type": "markdown",
      "metadata": {
        "id": "view-in-github",
        "colab_type": "text"
      },
      "source": [
        "<a href=\"https://colab.research.google.com/github/mayuneko-re/notebook/blob/master/colab/PT_Flash_Calculation.ipynb\" target=\"_parent\"><img src=\"https://colab.research.google.com/assets/colab-badge.svg\" alt=\"Open In Colab\"/></a>"
      ]
    },
    {
      "cell_type": "markdown",
      "metadata": {
        "id": "5SFVC_RG3DzZ",
        "colab_type": "text"
      },
      "source": [
        "# PTフラッシュ計算\n",
        "\n",
        "PTフラッシュ計算は，あるモル成分Ziの混合物をある温度・圧力条件下で気相と液相に分ける．\n",
        "\n",
        "**PTフラッシュ計算の流れ**\n",
        "\n",
        "1.   フィード流体を設定する\n",
        "2.   最初のK値を推定（Wilsonの式）\n",
        "3.   K値から、各相の成分を計算（Ratchford-Riceの式, WhitsonのNegative Flash）,\n",
        "4.   液相・気相それぞれについて、多成分系のEOSを解き（カルダノの方法）、Partial fugacity coefficientを計算\n",
        "5.   両相のPartial fugacity coefficientからK値を更新\n",
        "6.   3-5を繰り返し計算。K値の変化が十分小さくなった時点で計算終了。\n"
      ]
    },
    {
      "cell_type": "markdown",
      "metadata": {
        "id": "kZKIdn2ZcwNW",
        "colab_type": "text"
      },
      "source": [
        "## Equation of state (EOS)\n",
        "\n",
        "流体モデルの相挙動は，EOSは業界でよくみられる **Peng-Robinson (PR) EOS** を使用してやってみる．**PR EOS** は以下のように表現される．\n",
        "\n",
        "$$\n",
        "p = \\frac{RT}{v-b} - \\frac{a}{v(v+b)+b(v-b)}\n",
        "$$\n",
        "\n",
        "単成分に対するEOSの定数は以下のとおり．\n",
        "\n",
        "$$\n",
        "a = 0.45724 \\frac{R^2T_c^2}{p_c}\\alpha, \\ b=0.07780\\frac{RT_c}{p_c}, \\\\\n",
        "\\alpha=\\left[1+m \\left(1-\\sqrt{T/T_c} \\right) \\right]^2, \\ m=0.37464+1.54226\\omega-0.26992\\omega^2\n",
        "$$\n",
        "\n",
        "$\\omega$は，acentric factorと呼ばれるパラメータである．\n",
        "\n",
        "zファクターに関して表式すると以下のようになる．\n",
        "\n",
        "$$\n",
        "z^3-(1-B)z^2+(A-3B^2-2B)z-(AB-B^2-B^3)=0\n",
        "$$\n",
        "\n",
        "$$\n",
        "A = a \\frac{p}{(RT)^2}, \\ B = b \\frac{p}{RT}\n",
        "$$"
      ]
    },
    {
      "cell_type": "markdown",
      "metadata": {
        "id": "03z3UyV6udEd",
        "colab_type": "text"
      },
      "source": [
        "**Mixtureに関するEOS**\n",
        "\n",
        "相*j*の混合物に対するPR EOSのパラメータは，**Mixing rule** によって以下のようになる．\n",
        "\n",
        "$$\n",
        "A_{mj} = \\sum_{i=1}^N \\sum_{k=1}^N x_i x_k A_{ik}, \\ \n",
        "B_{mj} = \\sum_{i=1}^N x_i B_i, \\\n",
        "A_{ik} = (1-k_{ik})\\sqrt{A_i A_k} \n",
        "$$\n",
        "\n",
        "相*j*中の成分*i*の **Partial fugacity coefficient**, $\\phi_ij$ は以下のようになる．\n",
        "\n",
        "$$\n",
        "\\ln \\phi_{ij} = \\frac{B_i}{B_{mj}}(Z_{mj}-1)-\\ln (Z_{mj}-B_{mj}) \n",
        "  + \\frac{A_{mj}}{2\\sqrt{2}B_{mj}}\\left( \\frac{B_{i}}{B_{mj}} - \\frac{2 \\sum_{k=1}^N x_k A_{ik}}{A_{mj}}  \\right)\n",
        "  \\ln \\left[ \\frac{Z_{mj}+(1+\\sqrt{2})B_{mj}}{Z_{mj}+(1-\\sqrt{2})B_{mj}} \\right]\n",
        "$$\n",
        "\n",
        "成分iの平衡定数 $K_i$は，気相V・液相LそれぞれのPartial fugacity coefficientを用いて以下のように表される．\n",
        "\n",
        "$$\n",
        "K_i = \\frac{\\phi_{iL}}{\\phi_{iV}}\n",
        "$$\n"
      ]
    },
    {
      "cell_type": "markdown",
      "metadata": {
        "id": "ZuAk2a2_DLPG",
        "colab_type": "text"
      },
      "source": [
        "**ライブラリのインポート**"
      ]
    },
    {
      "cell_type": "code",
      "metadata": {
        "id": "_6H1BO21M8NH",
        "colab_type": "code",
        "colab": {}
      },
      "source": [
        "import numpy as np\n",
        "import matplotlib.pyplot as plt\n",
        "from scipy import optimize"
      ],
      "execution_count": 0,
      "outputs": []
    },
    {
      "cell_type": "markdown",
      "metadata": {
        "id": "t-Qb-xEHjny8",
        "colab_type": "text"
      },
      "source": [
        "## クラスの作成\n",
        "\n",
        "**Componentsクラス**\n",
        "\n",
        "各成分のPR EOSパラメータを計算し保持するクラス．"
      ]
    },
    {
      "cell_type": "code",
      "metadata": {
        "id": "4kFfSF-i9Ao8",
        "colab_type": "code",
        "colab": {}
      },
      "source": [
        "class Components():\n",
        "\n",
        "    R = 8.3142 # Gas constant, kPa-m3/(Kg-mol-K)\n",
        "\n",
        "    def __init__(self, name, Pc, Tc, omega):\n",
        "        self.name = name # name of component\n",
        "        self.Pc = Pc # Critical pressure, BarA\n",
        "        self.Tc = Tc # Critical temperature degK\n",
        "        self.omega = omega # Acentric factor\n",
        "\n",
        "    def PREOS(self, P, T):\n",
        "        \"\"\"Calculate Peng-Robinson EOS parameters\n",
        "        \"\"\"\n",
        "        self.P = P # Pressure condition, BarA\n",
        "        self.T = T # Temperature condition, degK\n",
        "\n",
        "        # Peng-Robinson EoS parameters\n",
        "        m = 0.37464 + 1.54226*self.omega -0.26992*self.omega**2\n",
        "        self.alpha = (1 + m*(1-np.sqrt(T/self.Tc)))**2\n",
        "        self.a = 0.45724*(self.R*self.Tc)**2*self.alpha/(self.Pc*1e5)\n",
        "        self.b = 0.07780*self.R*self.Tc/(self.Pc*1e5)\n",
        "        self.A = self.a * (self.P*1e5) / (self.R*self.T)**2\n",
        "        self.B = self.b * (self.P*1e5) / (self.R*self.T)\n",
        "        \n",
        "        return True"
      ],
      "execution_count": 0,
      "outputs": []
    },
    {
      "cell_type": "markdown",
      "metadata": {
        "id": "qBWvhu0L27d2",
        "colab_type": "text"
      },
      "source": [
        "**Mixtureクラス**\n",
        "\n",
        "多成分系のPR EOSパラメータを計算し保持、PTフラッシュ計算を実施するクラス．"
      ]
    },
    {
      "cell_type": "code",
      "metadata": {
        "id": "tbgzKxPdBpTe",
        "colab_type": "code",
        "colab": {}
      },
      "source": [
        "class Mixture():\n",
        "\n",
        "    R = 8.3142 # Gas constant, kPa-m3/(Kg-mol-K)\n",
        "\n",
        "    def __init__(self, feed, Zi):\n",
        "        self.feed = np.array(feed) # Feed composition instance list\n",
        "        self.Zi = Zi / np.sum(Zi) # Feed molar fraction\n",
        "        self.set_BIPs() # Set zero BIPs\n",
        "\n",
        "    def set_BIPs(self, kik=None):\n",
        "        \"\"\"Set Binary Interaction Parameters for PR EOS, which is available from literature.\n",
        "        \"\"\"\n",
        "        if kik is None:\n",
        "            self.kik = np.zeros((self.feed.size, self.feed.size)) # No information\n",
        "        else:\n",
        "            self.kik = kik\n",
        "        \n",
        "\n",
        "    def PT_flash(self, P, T, verbose=False):\n",
        "        \"\"\"PT Flash\n",
        "        \"\"\"\n",
        "        self.P = P # Pressure condition for PT flash, BarA\n",
        "        self.T = T # Temperature condition for PT flash, degK\n",
        "\n",
        "        # Initialize PR EOS parameters for each components at P and T condition\n",
        "        for c in self.feed:\n",
        "            c.PREOS(self.P, self.T)\n",
        "\n",
        "        # Initial guess of Ki is made by Wilson equation.\n",
        "        self.Ki = np.array([(c.Pc/self.P)*np.exp(5.37*(1+c.omega)*(1-c.Tc/self.T)) \n",
        "                            for c in self.feed])\n",
        "\n",
        "        # Mixture parameters are calculated by mixing rules.\n",
        "        self.Ai = np.array([c.A for c in self.feed])\n",
        "        self.Bi = np.array([c.B for c in self.feed])\n",
        "        self.Aik = np.outer(self.Ai,self.Ai)**0.5 * (1-self.kik)\n",
        "        \n",
        "        def f(V, Z, Ki):\n",
        "            f = np.sum( (Z*(Ki-1)) / (1+V*(Ki-1)) )\n",
        "            return f\n",
        "\n",
        "        # New values of Ki calculated are again used to estimate V and \n",
        "        # thereafter Xi & Yi. Iteration is repeated till there is no further \n",
        "        # change in Ki values.\n",
        "        deltaKi = 10\n",
        "        tol = 1e-6\n",
        "\n",
        "        while deltaKi>tol:\n",
        "\n",
        "            # Relative molar volume in vapor phase\n",
        "            min = 1/(1-np.max(self.Ki))\n",
        "            max = 1/(1-np.min(self.Ki))\n",
        "            min = min + np.abs(min)*1e-6\n",
        "            max = max - np.abs(max)*1e-6\n",
        "            self.V = optimize.bisect(f, min, max, args=(self.Zi, self.Ki))\n",
        "            self.L = 1 - self.V\n",
        "\n",
        "            # Compositions in liquid phase and vapor phase\n",
        "            self.Xi = self.Zi / (1+self.V*(self.Ki-1))\n",
        "            self.Yi = self.Xi * self.Ki\n",
        "\n",
        "            # Partial fugacity coefficient calculation for Liquid phase and Vapor phase\n",
        "            PhiL = self.calc_fugacity(self.Xi, P)\n",
        "            PhiV = self.calc_fugacity(self.Yi, P)\n",
        "\n",
        "            # Update K\n",
        "            Kinew = PhiL / PhiV\n",
        "            deltaKi = np.sum(np.abs(Kinew/self.Ki-1))\n",
        "            self.Ki = Kinew\n",
        "\n",
        "        loc = np.where(self.Zi == 0)[0]\n",
        "        self.Xi = np.insert(self.Xi, loc, 0)\n",
        "        self.Yi = np.insert(self.Yi, loc, 0)\n",
        "        self.Ki = np.insert(self.Ki, loc, np.nan)\n",
        "\n",
        "        if self.V >=1:\n",
        "            self.phase = 'vapor'\n",
        "            self.Vact, self.Lact = 1, 0\n",
        "            self.Xiact, self.Yiact = np.zeros_like(self.Zi), self.Zi\n",
        "        elif self.V<=0:\n",
        "            self.phase = 'liquid'\n",
        "            self.Vact, self.Lact = 0, 1\n",
        "            self.Xiact, self.Yiact = self.Zi, np.zeros_like(self.Zi)\n",
        "        else:\n",
        "            self.phase = 'two-phase'\n",
        "            self.Vact, self.Lact = self.V, self.L\n",
        "            self.Xiact, self.Yiact = self.Xi, self.Yi\n",
        "\n",
        "        if verbose:\n",
        "            self.print_result()\n",
        "            \n",
        "\n",
        "    def calc_fugacity(self, xi, P):\n",
        "\n",
        "        # Mixture parameters are calculated by mixing rules.\n",
        "        A = np.sum(self.Aik * xi * xi.reshape(-1, 1))\n",
        "        B = np.sum(self.Bi * xi)\n",
        "\n",
        "        Zj = CardanoEOS(A,B) # Solving z factor\n",
        "\n",
        "        lnPhi = self.Bi/B*(Zj-1) - np.log(Zj-B) \\\n",
        "            - A/(2*np.sqrt(2)*B)*(2*np.dot(self.Aik, xi)/A-self.Bi/B) \\\n",
        "            * np.log( (Zj+(1+np.sqrt(2))*B)/(Zj+(1-np.sqrt(2))*B) )\n",
        "        Phi = np.exp(lnPhi)\n",
        "\n",
        "        return Phi\n",
        "\n",
        "\n",
        "    def print_result(self):\n",
        "        print('PT Flash calculation converged.')\n",
        "        print()\n",
        "        print('                       Feed components : {}'.format([c.name for c in self.feed]))\n",
        "        print('                    Feed mole fraction : {}'.format(self.Zi))\n",
        "        print()\n",
        "        print('PT Flash at {0:.1f} degK and {1:.1f} BarA.'.format(self.T, self.P))\n",
        "        print()\n",
        "        print('                                 Phase : {}'.format(self.phase))\n",
        "        print('Relative mole fraction of liquid phase : {:.4f}'.format(self.Lact))\n",
        "        print(' Relative mole fraction of vapor phase : {:.4f}'.format(self.Vact))\n",
        "        print('         Mole fraction in liquid phase : {}'.format(self.Xiact))\n",
        "        print('          Mole fraction in vapor phase : {}'.format(self.Yiact))\n",
        "        print('                              K values : {}'.format(self.Ki))\n",
        "\n",
        "\n",
        "def CardanoEOS(A,B):\n",
        "\n",
        "    C2 = B-1\n",
        "    C1 = A - 3*B**2 - 2*B\n",
        "    C0 = B**3 + B**2 - A*B\n",
        "    q = C0 - 1/3*C1*C2 + 2/27*C2**3\n",
        "    p = C1 - C2**2/3\n",
        "    D = (q/2)**2 + (p/3)**3\n",
        "\n",
        "    return np.cbrt(-q/2+np.sqrt(D)) + np.cbrt(-q/2-np.sqrt(D)) - C2/3"
      ],
      "execution_count": 0,
      "outputs": []
    },
    {
      "cell_type": "markdown",
      "metadata": {
        "id": "2ASFWjHCjeMk",
        "colab_type": "text"
      },
      "source": [
        "## 成分のセット\n",
        "\n",
        "ここでは、**メタン（C1）、ブタン（C4）、デカン（C10）、CO2**の４種を設定した．"
      ]
    },
    {
      "cell_type": "code",
      "metadata": {
        "id": "oY6xwxpNjYVW",
        "colab_type": "code",
        "colab": {}
      },
      "source": [
        "# Set components which you need.\n",
        "methane = Components(name='methane', Pc=46.00155, Tc=190.6, omega=0.008)\n",
        "butane = Components(name='butane', Pc=37.996875, Tc=425.2, omega=0.193)\n",
        "decane = Components(name='decane', Pc=21.0756, Tc=617.6, omega=0.49)\n",
        "co2 = Components(name='co2', Pc=73.7646, Tc=304.2, omega=0.225)"
      ],
      "execution_count": 0,
      "outputs": []
    },
    {
      "cell_type": "markdown",
      "metadata": {
        "id": "XZ6KPjvOjh6C",
        "colab_type": "text"
      },
      "source": [
        "## Mixtureの作成とPHフラッシュ計算\n",
        "\n"
      ]
    },
    {
      "cell_type": "markdown",
      "metadata": {
        "id": "jgJPBPsb4KLm",
        "colab_type": "text"
      },
      "source": [
        "### ケース１：C1-C4-C10系\n",
        "\n",
        "モル分率を下記のとおりとする．\n",
        "\n",
        "- C1: 0.6\n",
        "- C4: 0.1\n",
        "- C10: 0.3"
      ]
    },
    {
      "cell_type": "code",
      "metadata": {
        "id": "9AVuU-TaQHRI",
        "colab_type": "code",
        "outputId": "8b637b9b-88ce-45e7-fb65-6aad7a020d56",
        "colab": {
          "base_uri": "https://localhost:8080/",
          "height": 244
        }
      },
      "source": [
        "feed = [methane, butane, decane]\n",
        "Zi = np.array([0.6, 0.1, 0.3])\n",
        "kik = np.array([[0     , 0.0133, 0.0422],\n",
        "                [0.0133, 0     , 0     ],\n",
        "                [0.0422, 0     , 0     ]\n",
        "                ])\n",
        "\n",
        "# Pressure\n",
        "P = 2000/14.5038 # 2000psia -> BarA\n",
        "\n",
        "# Temperature\n",
        "T = (180-32)*5/9+273.15 # 180degF -> degK\n",
        "\n",
        "m = Mixture(feed, Zi)\n",
        "m.set_BIPs(kik)\n",
        "m.PT_flash(P,T,verbose=True)"
      ],
      "execution_count": 5,
      "outputs": [
        {
          "output_type": "stream",
          "text": [
            "PT Flash calculation converged.\n",
            "\n",
            "                       Feed components : ['methane', 'butane', 'decane']\n",
            "                    Feed mole fraction : [0.6 0.1 0.3]\n",
            "\n",
            "PT Flash at 355.4 degK and 137.9 BarA.\n",
            "\n",
            "                                 Phase : two-phase\n",
            "Relative mole fraction of liquid phase : 0.6618\n",
            " Relative mole fraction of vapor phase : 0.3382\n",
            "         Mole fraction in liquid phase : [0.41860774 0.13129475 0.45009751]\n",
            "          Mole fraction in vapor phase : [0.95488922 0.03877265 0.00633814]\n",
            "                              K values : [2.28110682 0.29530994 0.01408169]\n"
          ],
          "name": "stdout"
        }
      ]
    },
    {
      "cell_type": "markdown",
      "metadata": {
        "id": "JOHp2qy1RFq8",
        "colab_type": "text"
      },
      "source": [
        "PT Flashの結果、この温度・条件下では二相状態となることがわかる．全モル数の約2/3が液相に存在している．また、気相は95%がC1で、液相にはC10が多く存在する．"
      ]
    },
    {
      "cell_type": "markdown",
      "metadata": {
        "id": "190SDl1m3oB9",
        "colab_type": "text"
      },
      "source": [
        "### ケース２：C1-C4-C10-CO2系\n",
        "\n",
        "モル分率を下記のとおりとする．\n",
        "\n",
        "- C1: 0.3\n",
        "- C4: 0.05\n",
        "- C10: 0.15\n",
        "- CO2: 0.5\n",
        "\n",
        "これは、モル分率のとおりケース１の系に同モル量CO2を添加したケースに相当する．"
      ]
    },
    {
      "cell_type": "code",
      "metadata": {
        "id": "apnYaVQgR6w1",
        "colab_type": "code",
        "outputId": "324acf9d-5abe-4a9a-aad5-931aa6f68f48",
        "colab": {
          "base_uri": "https://localhost:8080/",
          "height": 244
        }
      },
      "source": [
        "feed = [methane, butane, decane, co2]\n",
        "Zi = np.array([0.3, 0.05, 0.15, 0.5])\n",
        "\n",
        "kik = np.array([[0     , 0.0133, 0.0422, 0.0919],\n",
        "                [0.0133, 0     , 0     , 0.1333],\n",
        "                [0.0422, 0     , 0     , 0.1141],\n",
        "                [0.0919, 0.1333, 0.1141, 0     ]\n",
        "                ])\n",
        "\n",
        "m = Mixture(feed, Zi)\n",
        "m.set_BIPs(kik)\n",
        "m.PT_flash(P,T,verbose=True)"
      ],
      "execution_count": 6,
      "outputs": [
        {
          "output_type": "stream",
          "text": [
            "PT Flash calculation converged.\n",
            "\n",
            "                       Feed components : ['methane', 'butane', 'decane', 'co2']\n",
            "                    Feed mole fraction : [0.3  0.05 0.15 0.5 ]\n",
            "\n",
            "PT Flash at 355.4 degK and 137.9 BarA.\n",
            "\n",
            "                                 Phase : two-phase\n",
            "Relative mole fraction of liquid phase : 0.4458\n",
            " Relative mole fraction of vapor phase : 0.5542\n",
            "         Mole fraction in liquid phase : [0.19384671 0.07637189 0.32257227 0.40720913]\n",
            "          Mole fraction in vapor phase : [0.38537628 0.02878979 0.01120468 0.57462925]\n",
            "                              K values : [1.98804587 0.37696845 0.03473543 1.41113995]\n"
          ],
          "name": "stdout"
        }
      ]
    },
    {
      "cell_type": "markdown",
      "metadata": {
        "id": "RRSUtveY4Rj3",
        "colab_type": "text"
      },
      "source": [
        "PT Flashの結果、この系でも二相状態となることがわかる．CO2を添加した結果、前のケースに比べて気相のモル数が増加している．炭化水素のK値も変化している．"
      ]
    },
    {
      "cell_type": "markdown",
      "metadata": {
        "id": "mRXE_oAyo6jc",
        "colab_type": "text"
      },
      "source": [
        "*End of notebook...*"
      ]
    }
  ]
}